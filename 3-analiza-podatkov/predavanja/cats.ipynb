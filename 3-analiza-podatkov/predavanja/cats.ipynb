{
 "cells": [
  {
   "cell_type": "markdown",
   "metadata": {},
   "source": [
    "## Data analysis with Pandas - MAČKE"
   ]
  },
  {
   "cell_type": "markdown",
   "metadata": {},
   "source": [
    "### Loading pandas and our data"
   ]
  },
  {
   "cell_type": "markdown",
   "metadata": {},
   "source": [
    "Uvozimo paket *pandas* in naložimo podatke o mačkah."
   ]
  },
  {
   "cell_type": "code",
   "execution_count": 1,
   "metadata": {},
   "outputs": [],
   "source": [
    "# naložimo paket\n",
    "import pandas as pd\n",
    "\n",
    "# ker bomo delali z velikimi razpredelnicami, povemo, da naj se vedno izpiše le 10 vrstic\n",
    "pd.options.display.max_rows = 10\n",
    "\n",
    "# select an interactive \"notebook\" plot style\n",
    "import matplotlib.pyplot as plt\n",
    "\n",
    "# naložimo razpredelnico, s katero bomo delali\n",
    "cats = pd.read_csv('..\\..\\cat_data\\catdata.csv', index_col='ime')"
   ]
  },
  {
   "cell_type": "markdown",
   "metadata": {},
   "source": [
    "Pogledamo prvih 10 vrstic v naši csv datoteki o mačkah."
   ]
  },
  {
   "cell_type": "code",
   "execution_count": 5,
   "metadata": {},
   "outputs": [
    {
     "data": {
      "text/html": [
       "<div>\n",
       "<style scoped>\n",
       "    .dataframe tbody tr th:only-of-type {\n",
       "        vertical-align: middle;\n",
       "    }\n",
       "\n",
       "    .dataframe tbody tr th {\n",
       "        vertical-align: top;\n",
       "    }\n",
       "\n",
       "    .dataframe thead th {\n",
       "        text-align: right;\n",
       "    }\n",
       "</style>\n",
       "<table border=\"1\" class=\"dataframe\">\n",
       "  <thead>\n",
       "    <tr style=\"text-align: right;\">\n",
       "      <th></th>\n",
       "      <th>opis</th>\n",
       "      <th>cena</th>\n",
       "    </tr>\n",
       "    <tr>\n",
       "      <th>ime</th>\n",
       "      <th></th>\n",
       "      <th></th>\n",
       "    </tr>\n",
       "  </thead>\n",
       "  <tbody>\n",
       "    <tr>\n",
       "      <th>Majhna mačka išče dom / podarim mačka</th>\n",
       "      <td>Našla sem majhno črno mucko, ki išče dom. Je z...</td>\n",
       "      <td>Podarim</td>\n",
       "    </tr>\n",
       "    <tr>\n",
       "      <th>Podarimo čudovite mlade mucke</th>\n",
       "      <td>Dobrim in odgovornim ljudem podarimo mlade muc...</td>\n",
       "      <td>Podarim</td>\n",
       "    </tr>\n",
       "    <tr>\n",
       "      <th>Toto išče dom</th>\n",
       "      <td>Toto je star okoli 9 mesecev, prijazen, igriv ...</td>\n",
       "      <td>Podarim</td>\n",
       "    </tr>\n",
       "    <tr>\n",
       "      <th>odličen britanski kratkometražni maček.</th>\n",
       "      <td>ljubek in privlačen, zdrav in aktiven. mali ma...</td>\n",
       "      <td>Podarim</td>\n",
       "    </tr>\n",
       "    <tr>\n",
       "      <th>Podarim mačja mladiča</th>\n",
       "      <td>Podarim mačja mladiča, stara 3 mesece.</td>\n",
       "      <td>Podarim</td>\n",
       "    </tr>\n",
       "    <tr>\n",
       "      <th>Lumpi išče dom</th>\n",
       "      <td>Zelo igriv trimesečni Lumpi išče nov dom. Je s...</td>\n",
       "      <td>Podarim</td>\n",
       "    </tr>\n",
       "    <tr>\n",
       "      <th>Ida išče dom</th>\n",
       "      <td>Trimesečna Ida išče skrbne posvojitelje. Je zd...</td>\n",
       "      <td>Podarim</td>\n",
       "    </tr>\n",
       "    <tr>\n",
       "      <th>Una išče dom</th>\n",
       "      <td>Trimesečna pisana Una išče ljubeče posvojitelj...</td>\n",
       "      <td>Podarim</td>\n",
       "    </tr>\n",
       "    <tr>\n",
       "      <th>Nežka išče dom</th>\n",
       "      <td>Enoletna Nežka išče odgovorne lastnike. Je než...</td>\n",
       "      <td>Podarim</td>\n",
       "    </tr>\n",
       "    <tr>\n",
       "      <th>Pika in Tigi iščeta dom</th>\n",
       "      <td>Zelo prijazna in nezahtevna Pika in Tigi iščet...</td>\n",
       "      <td>Podarim</td>\n",
       "    </tr>\n",
       "  </tbody>\n",
       "</table>\n",
       "</div>"
      ],
      "text/plain": [
       "                                                                                      opis  \\\n",
       "ime                                                                                          \n",
       "Majhna mačka išče dom / podarim mačka    Našla sem majhno črno mucko, ki išče dom. Je z...   \n",
       "Podarimo čudovite mlade mucke            Dobrim in odgovornim ljudem podarimo mlade muc...   \n",
       "Toto išče dom                            Toto je star okoli 9 mesecev, prijazen, igriv ...   \n",
       "odličen britanski kratkometražni maček.  ljubek in privlačen, zdrav in aktiven. mali ma...   \n",
       "Podarim mačja mladiča                               Podarim mačja mladiča, stara 3 mesece.   \n",
       "Lumpi išče dom                           Zelo igriv trimesečni Lumpi išče nov dom. Je s...   \n",
       "Ida išče dom                             Trimesečna Ida išče skrbne posvojitelje. Je zd...   \n",
       "Una išče dom                             Trimesečna pisana Una išče ljubeče posvojitelj...   \n",
       "Nežka išče dom                           Enoletna Nežka išče odgovorne lastnike. Je než...   \n",
       "Pika in Tigi iščeta dom                  Zelo prijazna in nezahtevna Pika in Tigi iščet...   \n",
       "\n",
       "                                            cena  \n",
       "ime                                               \n",
       "Majhna mačka išče dom / podarim mačka    Podarim  \n",
       "Podarimo čudovite mlade mucke            Podarim  \n",
       "Toto išče dom                            Podarim  \n",
       "odličen britanski kratkometražni maček.  Podarim  \n",
       "Podarim mačja mladiča                    Podarim  \n",
       "Lumpi išče dom                           Podarim  \n",
       "Ida išče dom                             Podarim  \n",
       "Una išče dom                             Podarim  \n",
       "Nežka išče dom                           Podarim  \n",
       "Pika in Tigi iščeta dom                  Podarim  "
      ]
     },
     "execution_count": 5,
     "metadata": {},
     "output_type": "execute_result"
    }
   ],
   "source": [
    "cats.head(10)"
   ]
  }
 ],
 "metadata": {
  "kernelspec": {
   "display_name": "Python 3",
   "language": "python",
   "name": "python3"
  },
  "language_info": {
   "codemirror_mode": {
    "name": "ipython",
    "version": 3
   },
   "file_extension": ".py",
   "mimetype": "text/x-python",
   "name": "python",
   "nbconvert_exporter": "python",
   "pygments_lexer": "ipython3",
   "version": "3.7.1rc1"
  }
 },
 "nbformat": 4,
 "nbformat_minor": 2
}
