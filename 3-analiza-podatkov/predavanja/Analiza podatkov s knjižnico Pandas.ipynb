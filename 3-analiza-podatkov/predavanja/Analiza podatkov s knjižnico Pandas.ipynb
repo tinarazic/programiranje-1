{
 "cells": [
  {
   "cell_type": "markdown",
   "metadata": {},
   "source": [
    "# Analiza podatkov s knjižnico Pandas\n",
    "\n",
    "Spodaj je pregled najosnovnejših metod, ki jih ponuja knjižnica Pandas. Vsaka od naštetih metod ponuja še cel kup dodatnih možnosti, ki so natančno opisane v [uradni dokumentaciji](http://pandas.pydata.org/pandas-docs/stable/). Z branjem dokumentacije se vam seveda najbolj splača začeti pri [uvodih](http://pandas.pydata.org/pandas-docs/stable/tutorials.html)."
   ]
  },
  {
   "cell_type": "markdown",
   "metadata": {},
   "source": [
    "## Predpriprava"
   ]
  },
  {
   "cell_type": "code",
   "execution_count": 2,
   "metadata": {},
   "outputs": [],
   "source": [
    "# naložimo paket\n",
    "import pandas as pd\n",
    "\n",
    "# naložimo razpredelnico, s katero bomo delali\n",
    "filmi = pd.read_csv('obdelani-podatki/filmi.csv', index_col='id')\n",
    "\n",
    "# ker bomo delali z velikimi razpredelnicami, povemo, da naj se vedno izpiše le 20 vrstic\n",
    "pd.options.display.max_rows = 20"
   ]
  },
  {
   "cell_type": "markdown",
   "metadata": {},
   "source": [
    "## Osnovni izbori elementov razpredelnic"
   ]
  },
  {
   "cell_type": "markdown",
   "metadata": {},
   "source": [
    "Z metodo `.head(n=5)` pogledamo prvih `n`, z metodo `.tail(n=5)` pa zadnjih `n` vrstic razpredelnice."
   ]
  },
  {
   "cell_type": "code",
   "execution_count": null,
   "metadata": {},
   "outputs": [],
   "source": [
    "filmi.head(10)"
   ]
  },
  {
   "cell_type": "code",
   "execution_count": null,
   "metadata": {},
   "outputs": [],
   "source": [
    "filmi.tail()"
   ]
  },
  {
   "cell_type": "markdown",
   "metadata": {},
   "source": [
    "Z rezinami pa dostopamo do izbranih vrstic."
   ]
  },
  {
   "cell_type": "code",
   "execution_count": null,
   "metadata": {},
   "outputs": [],
   "source": [
    "filmi[3:10:2]"
   ]
  },
  {
   "cell_type": "markdown",
   "metadata": {},
   "source": [
    "Z indeksiranjem razpredelnice dostopamo do posameznih stolpcev."
   ]
  },
  {
   "cell_type": "code",
   "execution_count": null,
   "metadata": {
    "scrolled": true
   },
   "outputs": [],
   "source": [
    "filmi['ocena']"
   ]
  },
  {
   "cell_type": "markdown",
   "metadata": {},
   "source": [
    "Do stolpcev pogosto dostopamo, zato lahko uporabimo tudi krajši zapis."
   ]
  },
  {
   "cell_type": "code",
   "execution_count": null,
   "metadata": {},
   "outputs": [],
   "source": [
    "filmi.ocena"
   ]
  },
  {
   "cell_type": "markdown",
   "metadata": {},
   "source": [
    "Če želimo več stolpcev, moramo za indeks podati seznam vseh oznak."
   ]
  },
  {
   "cell_type": "code",
   "execution_count": null,
   "metadata": {
    "scrolled": false
   },
   "outputs": [],
   "source": [
    "filmi[['naslov', 'ocena']]"
   ]
  },
  {
   "cell_type": "markdown",
   "metadata": {},
   "source": [
    "Do vrednosti z indeksom `i` dostopamo z `.iloc[i]`, do tiste s ključem `k` pa z `.loc[k]`."
   ]
  },
  {
   "cell_type": "code",
   "execution_count": null,
   "metadata": {
    "scrolled": true
   },
   "outputs": [],
   "source": [
    "filmi.iloc[120]"
   ]
  },
  {
   "cell_type": "code",
   "execution_count": null,
   "metadata": {},
   "outputs": [],
   "source": [
    "filmi.loc[97576]"
   ]
  },
  {
   "cell_type": "markdown",
   "metadata": {},
   "source": [
    "## Filtriranje"
   ]
  },
  {
   "cell_type": "markdown",
   "metadata": {},
   "source": [
    "Izbor določenih vrstic razpredelnice naredimo tako, da za indeks podamo stolpec logičnih vrednosti, ki ga dobimo z običajnimi operacijami. V vrnjeni razpredelnici bodo ostale vrstice, pri katerih je v stolpcu vrednost `True`."
   ]
  },
  {
   "cell_type": "code",
   "execution_count": 3,
   "metadata": {
    "scrolled": true
   },
   "outputs": [
    {
     "data": {
      "text/plain": [
       "id\n",
       "12349       True\n",
       "13442       True\n",
       "15864       True\n",
       "17136       True\n",
       "17925       True\n",
       "21749       True\n",
       "22100       True\n",
       "24216      False\n",
       "25316       True\n",
       "27977       True\n",
       "           ...  \n",
       "5580390    False\n",
       "5700672    False\n",
       "5715874    False\n",
       "5726616     True\n",
       "5776858    False\n",
       "5813916     True\n",
       "5988370    False\n",
       "6294822    False\n",
       "6644200    False\n",
       "7784604    False\n",
       "Name: ocena, Length: 2500, dtype: bool"
      ]
     },
     "execution_count": 3,
     "metadata": {},
     "output_type": "execute_result"
    }
   ],
   "source": [
    "filmi.ocena >= 8"
   ]
  },
  {
   "cell_type": "code",
   "execution_count": 4,
   "metadata": {
    "scrolled": false
   },
   "outputs": [
    {
     "data": {
      "text/html": [
       "<div>\n",
       "<style scoped>\n",
       "    .dataframe tbody tr th:only-of-type {\n",
       "        vertical-align: middle;\n",
       "    }\n",
       "\n",
       "    .dataframe tbody tr th {\n",
       "        vertical-align: top;\n",
       "    }\n",
       "\n",
       "    .dataframe thead th {\n",
       "        text-align: right;\n",
       "    }\n",
       "</style>\n",
       "<table border=\"1\" class=\"dataframe\">\n",
       "  <thead>\n",
       "    <tr style=\"text-align: right;\">\n",
       "      <th></th>\n",
       "      <th>naslov</th>\n",
       "      <th>dolzina</th>\n",
       "      <th>leto</th>\n",
       "      <th>ocena</th>\n",
       "      <th>metascore</th>\n",
       "      <th>glasovi</th>\n",
       "      <th>zasluzek</th>\n",
       "      <th>opis</th>\n",
       "    </tr>\n",
       "    <tr>\n",
       "      <th>id</th>\n",
       "      <th></th>\n",
       "      <th></th>\n",
       "      <th></th>\n",
       "      <th></th>\n",
       "      <th></th>\n",
       "      <th></th>\n",
       "      <th></th>\n",
       "      <th></th>\n",
       "    </tr>\n",
       "  </thead>\n",
       "  <tbody>\n",
       "    <tr>\n",
       "      <th>12349</th>\n",
       "      <td>The Kid</td>\n",
       "      <td>68</td>\n",
       "      <td>1921</td>\n",
       "      <td>8.3</td>\n",
       "      <td>NaN</td>\n",
       "      <td>90443</td>\n",
       "      <td>5450000.0</td>\n",
       "      <td>The Tramp cares for an abandoned child, but ev...</td>\n",
       "    </tr>\n",
       "    <tr>\n",
       "      <th>13442</th>\n",
       "      <td>Nosferatu, simfonija groze</td>\n",
       "      <td>94</td>\n",
       "      <td>1922</td>\n",
       "      <td>8.0</td>\n",
       "      <td>NaN</td>\n",
       "      <td>77975</td>\n",
       "      <td>NaN</td>\n",
       "      <td>Vampire Count Orlok expresses interest in a ne...</td>\n",
       "    </tr>\n",
       "    <tr>\n",
       "      <th>15864</th>\n",
       "      <td>Zlata mrzlica</td>\n",
       "      <td>95</td>\n",
       "      <td>1925</td>\n",
       "      <td>8.2</td>\n",
       "      <td>NaN</td>\n",
       "      <td>85136</td>\n",
       "      <td>5450000.0</td>\n",
       "      <td>A prospector goes to the Klondike in search of...</td>\n",
       "    </tr>\n",
       "    <tr>\n",
       "      <th>17136</th>\n",
       "      <td>Metropolis</td>\n",
       "      <td>153</td>\n",
       "      <td>1927</td>\n",
       "      <td>8.3</td>\n",
       "      <td>98.0</td>\n",
       "      <td>136601</td>\n",
       "      <td>26435.0</td>\n",
       "      <td>In a futuristic city sharply divided between t...</td>\n",
       "    </tr>\n",
       "    <tr>\n",
       "      <th>17925</th>\n",
       "      <td>General</td>\n",
       "      <td>67</td>\n",
       "      <td>1926</td>\n",
       "      <td>8.2</td>\n",
       "      <td>NaN</td>\n",
       "      <td>68196</td>\n",
       "      <td>NaN</td>\n",
       "      <td>When Union spies steal an engineer's beloved l...</td>\n",
       "    </tr>\n",
       "    <tr>\n",
       "      <th>21749</th>\n",
       "      <td>Luči velemesta</td>\n",
       "      <td>87</td>\n",
       "      <td>1931</td>\n",
       "      <td>8.5</td>\n",
       "      <td>NaN</td>\n",
       "      <td>138228</td>\n",
       "      <td>19181.0</td>\n",
       "      <td>With the aid of a wealthy erratic tippler, a d...</td>\n",
       "    </tr>\n",
       "    <tr>\n",
       "      <th>22100</th>\n",
       "      <td>M - mesto isce morilca</td>\n",
       "      <td>117</td>\n",
       "      <td>1931</td>\n",
       "      <td>8.4</td>\n",
       "      <td>NaN</td>\n",
       "      <td>121443</td>\n",
       "      <td>28877.0</td>\n",
       "      <td>When the police in a German city are unable to...</td>\n",
       "    </tr>\n",
       "    <tr>\n",
       "      <th>25316</th>\n",
       "      <td>Zgodilo se je neke noci</td>\n",
       "      <td>105</td>\n",
       "      <td>1934</td>\n",
       "      <td>8.1</td>\n",
       "      <td>87.0</td>\n",
       "      <td>81390</td>\n",
       "      <td>NaN</td>\n",
       "      <td>A spoiled heiress running away from her family...</td>\n",
       "    </tr>\n",
       "    <tr>\n",
       "      <th>27977</th>\n",
       "      <td>Moderni časi</td>\n",
       "      <td>87</td>\n",
       "      <td>1936</td>\n",
       "      <td>8.5</td>\n",
       "      <td>96.0</td>\n",
       "      <td>179725</td>\n",
       "      <td>163245.0</td>\n",
       "      <td>The Tramp struggles to live in modern industri...</td>\n",
       "    </tr>\n",
       "    <tr>\n",
       "      <th>31381</th>\n",
       "      <td>V vrtincu</td>\n",
       "      <td>238</td>\n",
       "      <td>1939</td>\n",
       "      <td>8.2</td>\n",
       "      <td>97.0</td>\n",
       "      <td>254666</td>\n",
       "      <td>198676459.0</td>\n",
       "      <td>A manipulative woman and a roguish man conduct...</td>\n",
       "    </tr>\n",
       "    <tr>\n",
       "      <th>...</th>\n",
       "      <td>...</td>\n",
       "      <td>...</td>\n",
       "      <td>...</td>\n",
       "      <td>...</td>\n",
       "      <td>...</td>\n",
       "      <td>...</td>\n",
       "      <td>...</td>\n",
       "      <td>...</td>\n",
       "    </tr>\n",
       "    <tr>\n",
       "      <th>4154756</th>\n",
       "      <td>Maščevalci: Brezmejna vojna</td>\n",
       "      <td>149</td>\n",
       "      <td>2018</td>\n",
       "      <td>8.6</td>\n",
       "      <td>68.0</td>\n",
       "      <td>500755</td>\n",
       "      <td>678815482.0</td>\n",
       "      <td>The Avengers and their allies must be willing ...</td>\n",
       "    </tr>\n",
       "    <tr>\n",
       "      <th>4857264</th>\n",
       "      <td>Contratiempo</td>\n",
       "      <td>106</td>\n",
       "      <td>2016</td>\n",
       "      <td>8.1</td>\n",
       "      <td>NaN</td>\n",
       "      <td>66508</td>\n",
       "      <td>NaN</td>\n",
       "      <td>While the clock is ticking, with the aid of a ...</td>\n",
       "    </tr>\n",
       "    <tr>\n",
       "      <th>4912910</th>\n",
       "      <td>Mission: Impossible - Fallout</td>\n",
       "      <td>147</td>\n",
       "      <td>2018</td>\n",
       "      <td>8.0</td>\n",
       "      <td>86.0</td>\n",
       "      <td>140794</td>\n",
       "      <td>219899179.0</td>\n",
       "      <td>Ethan Hunt and his IMF team, along with some f...</td>\n",
       "    </tr>\n",
       "    <tr>\n",
       "      <th>5013056</th>\n",
       "      <td>Dunkirk</td>\n",
       "      <td>106</td>\n",
       "      <td>2017</td>\n",
       "      <td>8.0</td>\n",
       "      <td>94.0</td>\n",
       "      <td>422119</td>\n",
       "      <td>188373161.0</td>\n",
       "      <td>Allied soldiers from Belgium, the British Empi...</td>\n",
       "    </tr>\n",
       "    <tr>\n",
       "      <th>5027774</th>\n",
       "      <td>Trije plakati pred mestom</td>\n",
       "      <td>115</td>\n",
       "      <td>2017</td>\n",
       "      <td>8.2</td>\n",
       "      <td>88.0</td>\n",
       "      <td>283426</td>\n",
       "      <td>54513740.0</td>\n",
       "      <td>A mother personally challenges the local autho...</td>\n",
       "    </tr>\n",
       "    <tr>\n",
       "      <th>5074352</th>\n",
       "      <td>Dangal</td>\n",
       "      <td>161</td>\n",
       "      <td>2016</td>\n",
       "      <td>8.5</td>\n",
       "      <td>NaN</td>\n",
       "      <td>105972</td>\n",
       "      <td>12391761.0</td>\n",
       "      <td>Former wrestler Mahavir Singh Phogat and his t...</td>\n",
       "    </tr>\n",
       "    <tr>\n",
       "      <th>5104604</th>\n",
       "      <td>Isle of Dogs</td>\n",
       "      <td>101</td>\n",
       "      <td>2018</td>\n",
       "      <td>8.0</td>\n",
       "      <td>82.0</td>\n",
       "      <td>74409</td>\n",
       "      <td>32015231.0</td>\n",
       "      <td>Set in Japan, Isle of Dogs follows a boy's ody...</td>\n",
       "    </tr>\n",
       "    <tr>\n",
       "      <th>5311514</th>\n",
       "      <td>Kimi no na wa.</td>\n",
       "      <td>106</td>\n",
       "      <td>2016</td>\n",
       "      <td>8.4</td>\n",
       "      <td>79.0</td>\n",
       "      <td>109506</td>\n",
       "      <td>5017246.0</td>\n",
       "      <td>Two strangers find themselves linked in a biza...</td>\n",
       "    </tr>\n",
       "    <tr>\n",
       "      <th>5726616</th>\n",
       "      <td>Pokliči me po svojem imenu</td>\n",
       "      <td>132</td>\n",
       "      <td>2017</td>\n",
       "      <td>8.0</td>\n",
       "      <td>93.0</td>\n",
       "      <td>127377</td>\n",
       "      <td>18095701.0</td>\n",
       "      <td>In 1980s Italy, a romance blossoms between a s...</td>\n",
       "    </tr>\n",
       "    <tr>\n",
       "      <th>5813916</th>\n",
       "      <td>Dag II</td>\n",
       "      <td>135</td>\n",
       "      <td>2016</td>\n",
       "      <td>9.4</td>\n",
       "      <td>NaN</td>\n",
       "      <td>98201</td>\n",
       "      <td>NaN</td>\n",
       "      <td>In a desolate war zone where screams of the in...</td>\n",
       "    </tr>\n",
       "  </tbody>\n",
       "</table>\n",
       "<p>340 rows × 8 columns</p>\n",
       "</div>"
      ],
      "text/plain": [
       "                                naslov  dolzina  leto  ocena  metascore  \\\n",
       "id                                                                        \n",
       "12349                          The Kid       68  1921    8.3        NaN   \n",
       "13442       Nosferatu, simfonija groze       94  1922    8.0        NaN   \n",
       "15864                    Zlata mrzlica       95  1925    8.2        NaN   \n",
       "17136                       Metropolis      153  1927    8.3       98.0   \n",
       "17925                          General       67  1926    8.2        NaN   \n",
       "21749                   Luči velemesta       87  1931    8.5        NaN   \n",
       "22100           M - mesto isce morilca      117  1931    8.4        NaN   \n",
       "25316          Zgodilo se je neke noci      105  1934    8.1       87.0   \n",
       "27977                     Moderni časi       87  1936    8.5       96.0   \n",
       "31381                        V vrtincu      238  1939    8.2       97.0   \n",
       "...                                ...      ...   ...    ...        ...   \n",
       "4154756    Maščevalci: Brezmejna vojna      149  2018    8.6       68.0   \n",
       "4857264                   Contratiempo      106  2016    8.1        NaN   \n",
       "4912910  Mission: Impossible - Fallout      147  2018    8.0       86.0   \n",
       "5013056                        Dunkirk      106  2017    8.0       94.0   \n",
       "5027774      Trije plakati pred mestom      115  2017    8.2       88.0   \n",
       "5074352                         Dangal      161  2016    8.5        NaN   \n",
       "5104604                   Isle of Dogs      101  2018    8.0       82.0   \n",
       "5311514                 Kimi no na wa.      106  2016    8.4       79.0   \n",
       "5726616     Pokliči me po svojem imenu      132  2017    8.0       93.0   \n",
       "5813916                         Dag II      135  2016    9.4        NaN   \n",
       "\n",
       "         glasovi     zasluzek  \\\n",
       "id                              \n",
       "12349      90443    5450000.0   \n",
       "13442      77975          NaN   \n",
       "15864      85136    5450000.0   \n",
       "17136     136601      26435.0   \n",
       "17925      68196          NaN   \n",
       "21749     138228      19181.0   \n",
       "22100     121443      28877.0   \n",
       "25316      81390          NaN   \n",
       "27977     179725     163245.0   \n",
       "31381     254666  198676459.0   \n",
       "...          ...          ...   \n",
       "4154756   500755  678815482.0   \n",
       "4857264    66508          NaN   \n",
       "4912910   140794  219899179.0   \n",
       "5013056   422119  188373161.0   \n",
       "5027774   283426   54513740.0   \n",
       "5074352   105972   12391761.0   \n",
       "5104604    74409   32015231.0   \n",
       "5311514   109506    5017246.0   \n",
       "5726616   127377   18095701.0   \n",
       "5813916    98201          NaN   \n",
       "\n",
       "                                                      opis  \n",
       "id                                                          \n",
       "12349    The Tramp cares for an abandoned child, but ev...  \n",
       "13442    Vampire Count Orlok expresses interest in a ne...  \n",
       "15864    A prospector goes to the Klondike in search of...  \n",
       "17136    In a futuristic city sharply divided between t...  \n",
       "17925    When Union spies steal an engineer's beloved l...  \n",
       "21749    With the aid of a wealthy erratic tippler, a d...  \n",
       "22100    When the police in a German city are unable to...  \n",
       "25316    A spoiled heiress running away from her family...  \n",
       "27977    The Tramp struggles to live in modern industri...  \n",
       "31381    A manipulative woman and a roguish man conduct...  \n",
       "...                                                    ...  \n",
       "4154756  The Avengers and their allies must be willing ...  \n",
       "4857264  While the clock is ticking, with the aid of a ...  \n",
       "4912910  Ethan Hunt and his IMF team, along with some f...  \n",
       "5013056  Allied soldiers from Belgium, the British Empi...  \n",
       "5027774  A mother personally challenges the local autho...  \n",
       "5074352  Former wrestler Mahavir Singh Phogat and his t...  \n",
       "5104604  Set in Japan, Isle of Dogs follows a boy's ody...  \n",
       "5311514  Two strangers find themselves linked in a biza...  \n",
       "5726616  In 1980s Italy, a romance blossoms between a s...  \n",
       "5813916  In a desolate war zone where screams of the in...  \n",
       "\n",
       "[340 rows x 8 columns]"
      ]
     },
     "execution_count": 4,
     "metadata": {},
     "output_type": "execute_result"
    }
   ],
   "source": [
    "filmi[filmi.ocena >= 8]"
   ]
  },
  {
   "cell_type": "code",
   "execution_count": 5,
   "metadata": {},
   "outputs": [
    {
     "data": {
      "text/html": [
       "<div>\n",
       "<style scoped>\n",
       "    .dataframe tbody tr th:only-of-type {\n",
       "        vertical-align: middle;\n",
       "    }\n",
       "\n",
       "    .dataframe tbody tr th {\n",
       "        vertical-align: top;\n",
       "    }\n",
       "\n",
       "    .dataframe thead th {\n",
       "        text-align: right;\n",
       "    }\n",
       "</style>\n",
       "<table border=\"1\" class=\"dataframe\">\n",
       "  <thead>\n",
       "    <tr style=\"text-align: right;\">\n",
       "      <th></th>\n",
       "      <th>naslov</th>\n",
       "      <th>dolzina</th>\n",
       "      <th>leto</th>\n",
       "      <th>ocena</th>\n",
       "      <th>metascore</th>\n",
       "      <th>glasovi</th>\n",
       "      <th>zasluzek</th>\n",
       "      <th>opis</th>\n",
       "    </tr>\n",
       "    <tr>\n",
       "      <th>id</th>\n",
       "      <th></th>\n",
       "      <th></th>\n",
       "      <th></th>\n",
       "      <th></th>\n",
       "      <th></th>\n",
       "      <th></th>\n",
       "      <th></th>\n",
       "      <th></th>\n",
       "    </tr>\n",
       "  </thead>\n",
       "  <tbody>\n",
       "    <tr>\n",
       "      <th>816692</th>\n",
       "      <td>Medzvezdje</td>\n",
       "      <td>169</td>\n",
       "      <td>2014</td>\n",
       "      <td>8.6</td>\n",
       "      <td>74.0</td>\n",
       "      <td>1216019</td>\n",
       "      <td>188020017.0</td>\n",
       "      <td>A team of explorers travel through a wormhole ...</td>\n",
       "    </tr>\n",
       "    <tr>\n",
       "      <th>848228</th>\n",
       "      <td>Maščevalci</td>\n",
       "      <td>143</td>\n",
       "      <td>2012</td>\n",
       "      <td>8.1</td>\n",
       "      <td>69.0</td>\n",
       "      <td>1127736</td>\n",
       "      <td>623357910.0</td>\n",
       "      <td>Earth's mightiest heroes must come together an...</td>\n",
       "    </tr>\n",
       "    <tr>\n",
       "      <th>993846</th>\n",
       "      <td>Volk z Wall Streeta</td>\n",
       "      <td>180</td>\n",
       "      <td>2013</td>\n",
       "      <td>8.2</td>\n",
       "      <td>75.0</td>\n",
       "      <td>978535</td>\n",
       "      <td>116900694.0</td>\n",
       "      <td>Based on the true story of Jordan Belfort, fro...</td>\n",
       "    </tr>\n",
       "    <tr>\n",
       "      <th>1201607</th>\n",
       "      <td>Harry Potter in Svetinje smrti - 2. del</td>\n",
       "      <td>130</td>\n",
       "      <td>2011</td>\n",
       "      <td>8.1</td>\n",
       "      <td>87.0</td>\n",
       "      <td>660265</td>\n",
       "      <td>381011219.0</td>\n",
       "      <td>Harry, Ron, and Hermione search for Voldemort'...</td>\n",
       "    </tr>\n",
       "    <tr>\n",
       "      <th>1291584</th>\n",
       "      <td>Bojevnik</td>\n",
       "      <td>140</td>\n",
       "      <td>2011</td>\n",
       "      <td>8.2</td>\n",
       "      <td>71.0</td>\n",
       "      <td>390633</td>\n",
       "      <td>13657115.0</td>\n",
       "      <td>The youngest son of an alcoholic former boxer ...</td>\n",
       "    </tr>\n",
       "    <tr>\n",
       "      <th>1345836</th>\n",
       "      <td>Vzpon Viteza teme</td>\n",
       "      <td>164</td>\n",
       "      <td>2012</td>\n",
       "      <td>8.4</td>\n",
       "      <td>78.0</td>\n",
       "      <td>1333877</td>\n",
       "      <td>448139099.0</td>\n",
       "      <td>Eight years after the Joker's reign of anarchy...</td>\n",
       "    </tr>\n",
       "    <tr>\n",
       "      <th>1392190</th>\n",
       "      <td>Pobesneli Max: cesta besa</td>\n",
       "      <td>120</td>\n",
       "      <td>2015</td>\n",
       "      <td>8.1</td>\n",
       "      <td>90.0</td>\n",
       "      <td>737849</td>\n",
       "      <td>153636354.0</td>\n",
       "      <td>In a post-apocalyptic wasteland, a woman rebel...</td>\n",
       "    </tr>\n",
       "    <tr>\n",
       "      <th>1392214</th>\n",
       "      <td>Ugrabljeni</td>\n",
       "      <td>153</td>\n",
       "      <td>2013</td>\n",
       "      <td>8.1</td>\n",
       "      <td>74.0</td>\n",
       "      <td>499644</td>\n",
       "      <td>61002302.0</td>\n",
       "      <td>When Keller Dover's daughter and her friend go...</td>\n",
       "    </tr>\n",
       "    <tr>\n",
       "      <th>1454029</th>\n",
       "      <td>Služkinje</td>\n",
       "      <td>146</td>\n",
       "      <td>2011</td>\n",
       "      <td>8.1</td>\n",
       "      <td>62.0</td>\n",
       "      <td>378363</td>\n",
       "      <td>169708112.0</td>\n",
       "      <td>An aspiring author during the civil rights mov...</td>\n",
       "    </tr>\n",
       "    <tr>\n",
       "      <th>1675434</th>\n",
       "      <td>Prijatelja</td>\n",
       "      <td>112</td>\n",
       "      <td>2011</td>\n",
       "      <td>8.5</td>\n",
       "      <td>57.0</td>\n",
       "      <td>637139</td>\n",
       "      <td>13182281.0</td>\n",
       "      <td>After he becomes a quadriplegic from a paragli...</td>\n",
       "    </tr>\n",
       "    <tr>\n",
       "      <th>...</th>\n",
       "      <td>...</td>\n",
       "      <td>...</td>\n",
       "      <td>...</td>\n",
       "      <td>...</td>\n",
       "      <td>...</td>\n",
       "      <td>...</td>\n",
       "      <td>...</td>\n",
       "      <td>...</td>\n",
       "    </tr>\n",
       "    <tr>\n",
       "      <th>3315342</th>\n",
       "      <td>Logan: Wolverine</td>\n",
       "      <td>137</td>\n",
       "      <td>2017</td>\n",
       "      <td>8.1</td>\n",
       "      <td>77.0</td>\n",
       "      <td>512587</td>\n",
       "      <td>226277068.0</td>\n",
       "      <td>In the near future, a weary Logan cares for an...</td>\n",
       "    </tr>\n",
       "    <tr>\n",
       "      <th>3741834</th>\n",
       "      <td>Lev: Dolga pot domov</td>\n",
       "      <td>118</td>\n",
       "      <td>2016</td>\n",
       "      <td>8.1</td>\n",
       "      <td>69.0</td>\n",
       "      <td>166908</td>\n",
       "      <td>51694854.0</td>\n",
       "      <td>A five-year-old Indian boy gets lost on the st...</td>\n",
       "    </tr>\n",
       "    <tr>\n",
       "      <th>3783958</th>\n",
       "      <td>Dežela La la</td>\n",
       "      <td>128</td>\n",
       "      <td>2016</td>\n",
       "      <td>8.1</td>\n",
       "      <td>93.0</td>\n",
       "      <td>396365</td>\n",
       "      <td>151101803.0</td>\n",
       "      <td>While navigating their careers in Los Angeles,...</td>\n",
       "    </tr>\n",
       "    <tr>\n",
       "      <th>4016934</th>\n",
       "      <td>Služkinja</td>\n",
       "      <td>144</td>\n",
       "      <td>2016</td>\n",
       "      <td>8.1</td>\n",
       "      <td>84.0</td>\n",
       "      <td>67471</td>\n",
       "      <td>2005473.0</td>\n",
       "      <td>A woman is hired as a handmaiden to a Japanese...</td>\n",
       "    </tr>\n",
       "    <tr>\n",
       "      <th>4154756</th>\n",
       "      <td>Maščevalci: Brezmejna vojna</td>\n",
       "      <td>149</td>\n",
       "      <td>2018</td>\n",
       "      <td>8.6</td>\n",
       "      <td>68.0</td>\n",
       "      <td>500755</td>\n",
       "      <td>678815482.0</td>\n",
       "      <td>The Avengers and their allies must be willing ...</td>\n",
       "    </tr>\n",
       "    <tr>\n",
       "      <th>4857264</th>\n",
       "      <td>Contratiempo</td>\n",
       "      <td>106</td>\n",
       "      <td>2016</td>\n",
       "      <td>8.1</td>\n",
       "      <td>NaN</td>\n",
       "      <td>66508</td>\n",
       "      <td>NaN</td>\n",
       "      <td>While the clock is ticking, with the aid of a ...</td>\n",
       "    </tr>\n",
       "    <tr>\n",
       "      <th>5027774</th>\n",
       "      <td>Trije plakati pred mestom</td>\n",
       "      <td>115</td>\n",
       "      <td>2017</td>\n",
       "      <td>8.2</td>\n",
       "      <td>88.0</td>\n",
       "      <td>283426</td>\n",
       "      <td>54513740.0</td>\n",
       "      <td>A mother personally challenges the local autho...</td>\n",
       "    </tr>\n",
       "    <tr>\n",
       "      <th>5074352</th>\n",
       "      <td>Dangal</td>\n",
       "      <td>161</td>\n",
       "      <td>2016</td>\n",
       "      <td>8.5</td>\n",
       "      <td>NaN</td>\n",
       "      <td>105972</td>\n",
       "      <td>12391761.0</td>\n",
       "      <td>Former wrestler Mahavir Singh Phogat and his t...</td>\n",
       "    </tr>\n",
       "    <tr>\n",
       "      <th>5311514</th>\n",
       "      <td>Kimi no na wa.</td>\n",
       "      <td>106</td>\n",
       "      <td>2016</td>\n",
       "      <td>8.4</td>\n",
       "      <td>79.0</td>\n",
       "      <td>109506</td>\n",
       "      <td>5017246.0</td>\n",
       "      <td>Two strangers find themselves linked in a biza...</td>\n",
       "    </tr>\n",
       "    <tr>\n",
       "      <th>5813916</th>\n",
       "      <td>Dag II</td>\n",
       "      <td>135</td>\n",
       "      <td>2016</td>\n",
       "      <td>9.4</td>\n",
       "      <td>NaN</td>\n",
       "      <td>98201</td>\n",
       "      <td>NaN</td>\n",
       "      <td>In a desolate war zone where screams of the in...</td>\n",
       "    </tr>\n",
       "  </tbody>\n",
       "</table>\n",
       "<p>39 rows × 8 columns</p>\n",
       "</div>"
      ],
      "text/plain": [
       "                                          naslov  dolzina  leto  ocena  \\\n",
       "id                                                                       \n",
       "816692                                Medzvezdje      169  2014    8.6   \n",
       "848228                                Maščevalci      143  2012    8.1   \n",
       "993846                       Volk z Wall Streeta      180  2013    8.2   \n",
       "1201607  Harry Potter in Svetinje smrti - 2. del      130  2011    8.1   \n",
       "1291584                                 Bojevnik      140  2011    8.2   \n",
       "1345836                        Vzpon Viteza teme      164  2012    8.4   \n",
       "1392190                Pobesneli Max: cesta besa      120  2015    8.1   \n",
       "1392214                               Ugrabljeni      153  2013    8.1   \n",
       "1454029                                Služkinje      146  2011    8.1   \n",
       "1675434                               Prijatelja      112  2011    8.5   \n",
       "...                                          ...      ...   ...    ...   \n",
       "3315342                         Logan: Wolverine      137  2017    8.1   \n",
       "3741834                     Lev: Dolga pot domov      118  2016    8.1   \n",
       "3783958                             Dežela La la      128  2016    8.1   \n",
       "4016934                                Služkinja      144  2016    8.1   \n",
       "4154756              Maščevalci: Brezmejna vojna      149  2018    8.6   \n",
       "4857264                             Contratiempo      106  2016    8.1   \n",
       "5027774                Trije plakati pred mestom      115  2017    8.2   \n",
       "5074352                                   Dangal      161  2016    8.5   \n",
       "5311514                           Kimi no na wa.      106  2016    8.4   \n",
       "5813916                                   Dag II      135  2016    9.4   \n",
       "\n",
       "         metascore  glasovi     zasluzek  \\\n",
       "id                                         \n",
       "816692        74.0  1216019  188020017.0   \n",
       "848228        69.0  1127736  623357910.0   \n",
       "993846        75.0   978535  116900694.0   \n",
       "1201607       87.0   660265  381011219.0   \n",
       "1291584       71.0   390633   13657115.0   \n",
       "1345836       78.0  1333877  448139099.0   \n",
       "1392190       90.0   737849  153636354.0   \n",
       "1392214       74.0   499644   61002302.0   \n",
       "1454029       62.0   378363  169708112.0   \n",
       "1675434       57.0   637139   13182281.0   \n",
       "...            ...      ...          ...   \n",
       "3315342       77.0   512587  226277068.0   \n",
       "3741834       69.0   166908   51694854.0   \n",
       "3783958       93.0   396365  151101803.0   \n",
       "4016934       84.0    67471    2005473.0   \n",
       "4154756       68.0   500755  678815482.0   \n",
       "4857264        NaN    66508          NaN   \n",
       "5027774       88.0   283426   54513740.0   \n",
       "5074352        NaN   105972   12391761.0   \n",
       "5311514       79.0   109506    5017246.0   \n",
       "5813916        NaN    98201          NaN   \n",
       "\n",
       "                                                      opis  \n",
       "id                                                          \n",
       "816692   A team of explorers travel through a wormhole ...  \n",
       "848228   Earth's mightiest heroes must come together an...  \n",
       "993846   Based on the true story of Jordan Belfort, fro...  \n",
       "1201607  Harry, Ron, and Hermione search for Voldemort'...  \n",
       "1291584  The youngest son of an alcoholic former boxer ...  \n",
       "1345836  Eight years after the Joker's reign of anarchy...  \n",
       "1392190  In a post-apocalyptic wasteland, a woman rebel...  \n",
       "1392214  When Keller Dover's daughter and her friend go...  \n",
       "1454029  An aspiring author during the civil rights mov...  \n",
       "1675434  After he becomes a quadriplegic from a paragli...  \n",
       "...                                                    ...  \n",
       "3315342  In the near future, a weary Logan cares for an...  \n",
       "3741834  A five-year-old Indian boy gets lost on the st...  \n",
       "3783958  While navigating their careers in Los Angeles,...  \n",
       "4016934  A woman is hired as a handmaiden to a Japanese...  \n",
       "4154756  The Avengers and their allies must be willing ...  \n",
       "4857264  While the clock is ticking, with the aid of a ...  \n",
       "5027774  A mother personally challenges the local autho...  \n",
       "5074352  Former wrestler Mahavir Singh Phogat and his t...  \n",
       "5311514  Two strangers find themselves linked in a biza...  \n",
       "5813916  In a desolate war zone where screams of the in...  \n",
       "\n",
       "[39 rows x 8 columns]"
      ]
     },
     "execution_count": 5,
     "metadata": {},
     "output_type": "execute_result"
    }
   ],
   "source": [
    "filmi[(filmi.leto > 2010) & (filmi.ocena > 8)]"
   ]
  },
  {
   "cell_type": "markdown",
   "metadata": {},
   "source": [
    "### Naloga\n",
    "\n",
    "Poiščite filme, ki si jih želimo izogniti za vsako ceno, torej tiste, ki so daljši od dveh ur in imajo oceno pod 6.5."
   ]
  },
  {
   "cell_type": "code",
   "execution_count": null,
   "metadata": {},
   "outputs": [],
   "source": [
    "filmi[(filmi.ocena < 6) & (filmi.dolzina > 150)]"
   ]
  },
  {
   "cell_type": "markdown",
   "metadata": {},
   "source": [
    "## Urejanje"
   ]
  },
  {
   "cell_type": "markdown",
   "metadata": {},
   "source": [
    "Razpredelnico urejamo z metodo `.sort_values`, ki ji podamo ime ali seznam imen stolpcev, po katerih želimo urejati. Po želji lahko tudi povemo, kateri stolpci naj bodo urejeni naraščajoče in kateri padajoče."
   ]
  },
  {
   "cell_type": "code",
   "execution_count": null,
   "metadata": {},
   "outputs": [],
   "source": [
    "filmi.sort_values('dolzina')"
   ]
  },
  {
   "cell_type": "code",
   "execution_count": null,
   "metadata": {
    "scrolled": false
   },
   "outputs": [],
   "source": [
    "# najprej uredi padajoče po oceni, pri vsaki oceni pa še naraščajoče po letu\n",
    "filmi.sort_values(['ocena', 'leto'], ascending=[False, True])"
   ]
  },
  {
   "cell_type": "markdown",
   "metadata": {},
   "source": [
    "## Združevanje"
   ]
  },
  {
   "cell_type": "markdown",
   "metadata": {},
   "source": [
    "Z metodo `.groupby` ustvarimo razpredelnico posebne vrste, v katerem so vrstice združene glede na skupno lastnost."
   ]
  },
  {
   "cell_type": "code",
   "execution_count": null,
   "metadata": {},
   "outputs": [],
   "source": [
    "filmi_po_letih = filmi.groupby('leto')"
   ]
  },
  {
   "cell_type": "code",
   "execution_count": null,
   "metadata": {},
   "outputs": [],
   "source": [
    "filmi_po_letih"
   ]
  },
  {
   "cell_type": "code",
   "execution_count": null,
   "metadata": {},
   "outputs": [],
   "source": [
    "# povprečna ocena vsakega leta\n",
    "filmi_po_letih.ocena.mean()"
   ]
  },
  {
   "cell_type": "markdown",
   "metadata": {},
   "source": [
    "Če želimo, lahko združujemo tudi po izračunanih lastnostih. Izračunajmo stolpec in ga shranimo v razpredelnico."
   ]
  },
  {
   "cell_type": "code",
   "execution_count": null,
   "metadata": {},
   "outputs": [],
   "source": [
    "filmi['desetletje'] = 10 * (filmi.leto // 10)"
   ]
  },
  {
   "cell_type": "code",
   "execution_count": null,
   "metadata": {},
   "outputs": [],
   "source": [
    "filmi"
   ]
  },
  {
   "cell_type": "code",
   "execution_count": null,
   "metadata": {},
   "outputs": [],
   "source": [
    "filmi_po_desetletjih = filmi.groupby('desetletje')"
   ]
  },
  {
   "cell_type": "markdown",
   "metadata": {},
   "source": [
    "Preštejemo, koliko filmov je bilo v vsakem desetletju. Pri večini stolpcev dobimo iste številke, ker imamo v vsakem stolpcu enako vnosov. Če kje kakšen podatek manjkal, je številka manjša."
   ]
  },
  {
   "cell_type": "code",
   "execution_count": null,
   "metadata": {},
   "outputs": [],
   "source": [
    "filmi_po_desetletjih.count()"
   ]
  },
  {
   "cell_type": "markdown",
   "metadata": {},
   "source": [
    "Če želimo dobiti le število članov posamezne skupine, uporabimo metodo `.size()`. V tem primeru dobimo le stolpec, ne razpredelnice."
   ]
  },
  {
   "cell_type": "code",
   "execution_count": null,
   "metadata": {},
   "outputs": [],
   "source": [
    "filmi_po_desetletjih.size()"
   ]
  },
  {
   "cell_type": "markdown",
   "metadata": {},
   "source": [
    "Pogledamo povprečja vsakega desetletja. Dobimo povprečno leto, povprečno dolžino in oceno. Povprečnega naslova ne dobimo, ker se ga ne da izračunati, zato ustreznega stolpca ni."
   ]
  },
  {
   "cell_type": "code",
   "execution_count": null,
   "metadata": {},
   "outputs": [],
   "source": [
    "filmi_po_desetletjih.mean()"
   ]
  },
  {
   "cell_type": "markdown",
   "metadata": {},
   "source": [
    "### Naloga\n",
    "\n",
    "Izračunajte število filmov posamezne dolžine, zaokrožene na 5 minut."
   ]
  },
  {
   "cell_type": "markdown",
   "metadata": {},
   "source": [
    "## Risanje grafov"
   ]
  },
  {
   "cell_type": "code",
   "execution_count": null,
   "metadata": {},
   "outputs": [],
   "source": [
    "# vključimo risanje grafov (če stvari začnejo delati počasneje, izklopimo možnost inline)\n",
    "%matplotlib inline"
   ]
  },
  {
   "cell_type": "markdown",
   "metadata": {},
   "source": [
    "Običajen graf dobimo z metodo `plot`. Uporabljamo ga, kadar želimo prikazati spreminjanje vrednosti v odvisnosti od zvezne spremenljivke. Naša hipoteza je, da so zlata leta filma mimo. Graf to potrjuje."
   ]
  },
  {
   "cell_type": "code",
   "execution_count": null,
   "metadata": {},
   "outputs": [],
   "source": [
    "filmi[filmi.ocena > 8.5].groupby('desetletje').size().plot()"
   ]
  },
  {
   "cell_type": "markdown",
   "metadata": {},
   "source": [
    "Razsevni diagram dobimo z metodo `plot.scatter`. Uporabljamo ga, če želimo ugotoviti povezavo med dvema spremenljivkama."
   ]
  },
  {
   "cell_type": "code",
   "execution_count": null,
   "metadata": {},
   "outputs": [],
   "source": [
    "filmi.plot.scatter('dolzina', 'ocena')"
   ]
  },
  {
   "cell_type": "code",
   "execution_count": null,
   "metadata": {},
   "outputs": [],
   "source": [
    "filmi[filmi.dolzina < 250].plot.scatter('dolzina', 'ocena')"
   ]
  },
  {
   "cell_type": "markdown",
   "metadata": {},
   "source": [
    "Stolpčni diagram dobimo z metodo `plot.bar`. Uporabljamo ga, če želimo primerjati vrednosti pri diskretnih (običajno kategoričnih) spremenljivkah. Pogosto je koristno, da graf uredimo po vrednostih."
   ]
  },
  {
   "cell_type": "code",
   "execution_count": null,
   "metadata": {},
   "outputs": [],
   "source": [
    "filmi.sort_values('zasluzek', ascending=False).head(20).plot.bar(x='naslov', y='zasluzek')"
   ]
  },
  {
   "cell_type": "markdown",
   "metadata": {},
   "source": [
    "### Naloga\n",
    "\n",
    "Narišite grafe, ki ustrezno kažejo:\n",
    "- Povezavo med IMDB in metascore oceno\n",
    "- Spreminjanje povprečne dolžine filmov skozi leta"
   ]
  },
  {
   "cell_type": "markdown",
   "metadata": {},
   "source": [
    "## Stikanje"
   ]
  },
  {
   "cell_type": "code",
   "execution_count": null,
   "metadata": {},
   "outputs": [],
   "source": [
    "osebe = pd.read_csv('obdelani-podatki/osebe.csv', index_col='id')\n",
    "vloge = pd.read_csv('obdelani-podatki/vloge.csv')\n",
    "zanri = pd.read_csv('obdelani-podatki/zanri.csv')"
   ]
  },
  {
   "cell_type": "markdown",
   "metadata": {},
   "source": [
    "Razpredelnice stikamo s funkcijo `merge`, ki vrne razpredelnico vnosov iz obeh tabel, pri katerih se vsi istoimenski podatki ujemajo."
   ]
  },
  {
   "cell_type": "code",
   "execution_count": null,
   "metadata": {},
   "outputs": [],
   "source": [
    "vloge[vloge.film == 12349]"
   ]
  },
  {
   "cell_type": "code",
   "execution_count": null,
   "metadata": {},
   "outputs": [],
   "source": [
    "zanri[zanri.film == 12349]"
   ]
  },
  {
   "cell_type": "code",
   "execution_count": null,
   "metadata": {},
   "outputs": [],
   "source": [
    "pd.merge(vloge, zanri).head(20)"
   ]
  },
  {
   "cell_type": "markdown",
   "metadata": {},
   "source": [
    "V osnovi vsebuje staknjena razpredelnica le tiste vnose, ki se pojavijo v obeh tabelah. Temu principu pravimo notranji stik (_inner join_). Lahko pa se odločimo, da izberemo tudi tiste vnose, ki imajo podatke le v levi tabeli (_left join_), le v desni tabeli (_right join_) ali v vsaj eni tabeli (_outer join_). Če v eni tabeli ni vnosov, bodo v staknjeni tabeli označene manjkajoče vrednosti. Ker smo v našem primeru podatke jemali iz IMDBja, kjer so za vsak film določeni tako žanri kot vloge, do razlik ne pride."
   ]
  },
  {
   "cell_type": "markdown",
   "metadata": {},
   "source": [
    "Včasih želimo stikati tudi po stolpcih z različnimi imeni. V tem primeru funkciji `merge` podamo argumenta `left_on` in `right_on`."
   ]
  },
  {
   "cell_type": "code",
   "execution_count": null,
   "metadata": {},
   "outputs": [],
   "source": [
    "pd.merge(pd.merge(vloge, zanri), osebe, left_on='oseba', right_on='id')"
   ]
  },
  {
   "cell_type": "markdown",
   "metadata": {},
   "source": [
    "Poglejmo, katera osebe so nastopale v največ komedijah."
   ]
  },
  {
   "cell_type": "code",
   "execution_count": null,
   "metadata": {},
   "outputs": [],
   "source": [
    "zanri_oseb = pd.merge(pd.merge(vloge, zanri), osebe, left_on='oseba', right_on='id')\n",
    "zanri_oseb[\n",
    "    (zanri_oseb.zanr == 'Comedy') &\n",
    "    (zanri_oseb.vloga == 'igralec')\n",
    "].groupby(\n",
    "    'ime'\n",
    ").size(\n",
    ").sort_values(\n",
    "    ascending=False\n",
    ").head(20)"
   ]
  },
  {
   "cell_type": "markdown",
   "metadata": {},
   "source": [
    "### Naloga\n",
    "\n",
    "- Izračunajte povprečno oceno vsakega žanra.\n",
    "- Kateri režiserji snemajo najdonosnejše filme?"
   ]
  },
  {
   "cell_type": "markdown",
   "metadata": {},
   "source": [
    "## Zahtevnejši primer: naivni Bayesov klasifikator"
   ]
  },
  {
   "cell_type": "markdown",
   "metadata": {},
   "source": [
    "Zanima nas, ali lahko iz opisa filma napovemo njegove žanre. Gre za _klasifikacijski problem_, saj želimo filme klasificirati v žanre, naša naloga pa je napisati ustrezen program, ki mu pravimo _klasifikator_. Da zadevo naredimo bolj obvladljivo, bomo opis predstavili le z množico korenov besed, ki se v opisu pojavljajo."
   ]
  },
  {
   "cell_type": "code",
   "execution_count": null,
   "metadata": {},
   "outputs": [],
   "source": [
    "def koren_besede(beseda):\n",
    "    beseda = ''.join(znak for znak in beseda if znak.isalpha())\n",
    "    if not beseda:\n",
    "        return '$'\n",
    "    konec = len(beseda) - 1\n",
    "    if beseda[konec] in 'ds':\n",
    "        konec -= 1\n",
    "    while konec >= 0 and beseda[konec] in 'aeiou':\n",
    "        konec -= 1\n",
    "    return beseda[:konec + 1]\n",
    "\n",
    "def koreni_besed(niz):\n",
    "    return {\n",
    "        koren_besede(beseda) for beseda in niz.replace('-', ' ').lower().split() if beseda\n",
    "    }"
   ]
  },
  {
   "cell_type": "code",
   "execution_count": null,
   "metadata": {},
   "outputs": [],
   "source": [
    "koreni_besed(\"In 1938, after his father Professor Henry Jones, Sr. goes missing while pursuing the Holy Grail, Indiana Jones finds himself up against Adolf Hitler's Nazis again to stop them obtaining its powers.\")"
   ]
  },
  {
   "cell_type": "markdown",
   "metadata": {},
   "source": [
    "Zanimala nas bo torej verjetnost, da ima film žanr $Ž_i$ ob pogoju, da njegov opis vsebuje korene $K_1, \\ldots, K_m$, torej\n",
    "\n",
    "$$P(Ž_i | K_1 \\cap \\cdots \\cap K_n)$$\n",
    "\n",
    "Pri tem se bomo poslužili Bayesovega izreka\n",
    "\n",
    "$$P(A | B) = \\frac{P(A \\cap B)}{P(B)} = \\frac{P(B | A) \\cdot P(A)}{P(B)}$$\n",
    "\n",
    "zaradi česar našemu klasifikatorju pravimo _Bayesov klasifikator_. Velja\n",
    "\n",
    "$$P(Ž_i | K_1 \\cap \\cdots \\cap K_n) = \\frac{P(K_1 \\cap \\cdots \\cap K_n | Ž_i) \\cdot P(Ž_i)}{P(K_1 \\cap \\cdots \\cap K_n)}$$\n",
    "\n",
    "Nadalje si nalogo poenostavimo s predpostavko, da so pojavitve besed med seboj neodvisne. To sicer ni res, na primer ob besedi _treasure_ se bolj pogosto pojavlja beseda _hidden_ kot na primer _boring_, zato pravimo, da je klasifikator _naiven_. Ob tej predpostavki velja:\n",
    "\n",
    "$$P(K_1 \\cap \\cdots \\cap K_n | Ž_i) = P(K_1 | Ž_i) \\cdot \\cdots \\cdot P(K_n | Ž_i)$$\n",
    "\n",
    "oziroma\n",
    "\n",
    "$$P(Ž_i | K_1 \\cap \\cdots \\cap K_n) = \\frac{P(K_1 | Ž_i) \\cdot \\cdots \\cdot P(K_n | Ž_i) \\cdot P(Ž_i)}{P(K_1 \\cap \\cdots \\cap K_n)}$$\n",
    "\n",
    "Filmu, katerega opis vsebuje korene $K_1, \\dots, K_n$ bomo priredili tiste žanre $Ž_i$, pri katerih je dana verjetnost največja. Ker imenovalec ni odvisen od žanra, moramo torej za vsak $Ž_i$ izračunati le števec:\n",
    "\n",
    "$$P(K_1 | Ž_i) \\cdot \\cdots \\cdot P(K_n | Ž_i) \\cdot P(Ž_i)$$\n",
    "\n",
    "Vse te podatke znamo izračunati, zato se lahko lotimo dela."
   ]
  },
  {
   "cell_type": "markdown",
   "metadata": {},
   "source": [
    "Verjetnost posameznega žanra $P(Ž)$ izračunamo brez večjih težav:"
   ]
  },
  {
   "cell_type": "code",
   "execution_count": null,
   "metadata": {},
   "outputs": [],
   "source": [
    "verjetnosti_zanrov = zanri.groupby('zanr').size() / len(filmi)\n",
    "verjetnosti_zanrov"
   ]
  },
  {
   "cell_type": "markdown",
   "metadata": {},
   "source": [
    "Verjetnosti $P(K|Ž)$ bomo shranili v razpredelnico, v kateri bodo vrstice ustrezale korenom $K$, stolpci pa žanrom $Ž$. Najprej moramo poiskati vse filme, ki imajo žanr $Ž$, njihov opis pa vsebuje koren $K$. Vzemimo vse opise filmov:"
   ]
  },
  {
   "cell_type": "code",
   "execution_count": null,
   "metadata": {},
   "outputs": [],
   "source": [
    "filmi.opis"
   ]
  },
  {
   "cell_type": "markdown",
   "metadata": {},
   "source": [
    "To vrsto nizov pretvorimo v vrsto množic besed. Uporabimo metodo `apply`, ki dano funkcijo uporabi na vsakem vnosu."
   ]
  },
  {
   "cell_type": "code",
   "execution_count": null,
   "metadata": {},
   "outputs": [],
   "source": [
    "filmi.opis.apply(\n",
    "    koreni_besed\n",
    ")"
   ]
  },
  {
   "cell_type": "markdown",
   "metadata": {},
   "source": [
    "Po nekaj [iskanja po internetu](https://stackoverflow.com/questions/30885005/pandas-series-of-lists-to-one-series) in masiranja pridemo do iskane razpredelnice:"
   ]
  },
  {
   "cell_type": "code",
   "execution_count": null,
   "metadata": {},
   "outputs": [],
   "source": [
    "koreni_filmov = filmi.opis.apply(\n",
    "    koreni_besed\n",
    ").apply(\n",
    "    list\n",
    ").apply(\n",
    "    pd.Series\n",
    ").stack(\n",
    ").reset_index(\n",
    "    level='id'\n",
    ").rename(columns={\n",
    "    'id': 'film',\n",
    "    0: 'koren',\n",
    "})\n",
    "koreni_filmov"
   ]
  },
  {
   "cell_type": "markdown",
   "metadata": {},
   "source": [
    "Razpredelnico združimo z razpredelnico žanrov, da dobimo razpredelnico korenov žanrov."
   ]
  },
  {
   "cell_type": "code",
   "execution_count": null,
   "metadata": {},
   "outputs": [],
   "source": [
    "koreni_zanrov = pd.merge(\n",
    "    koreni_filmov,\n",
    "    zanri\n",
    ")[['koren', 'zanr']]\n",
    "koreni_zanrov"
   ]
  },
  {
   "cell_type": "markdown",
   "metadata": {},
   "source": [
    "S pomočjo funkcije `crosstab` preštejemo, kolikokrat se vsaka kombinacija pojavi."
   ]
  },
  {
   "cell_type": "code",
   "execution_count": null,
   "metadata": {},
   "outputs": [],
   "source": [
    "pojavitve_korenov_po_zanrih = pd.crosstab(koreni_zanrov.koren, koreni_zanrov.zanr)\n",
    "pojavitve_korenov_po_zanrih"
   ]
  },
  {
   "cell_type": "markdown",
   "metadata": {},
   "source": [
    "Iskane verjetnosti sedaj dobimo tako, da vsak stolpec delimo s številom filmov danega žanra. Da ne bomo dobili ničelne verjetnosti pri korenih, ki se v našem vzorcu ne pojavijo, verjetnost malenkost povečamo."
   ]
  },
  {
   "cell_type": "code",
   "execution_count": null,
   "metadata": {},
   "outputs": [],
   "source": [
    "verjetnosti_korenov_po_zanrih = pojavitve_korenov_po_zanrih / zanri.groupby('zanr').size() + 0.001"
   ]
  },
  {
   "cell_type": "markdown",
   "metadata": {},
   "source": [
    "Poglejmo, kaj so najpogostejši koreni pri nekaj žanrih:"
   ]
  },
  {
   "cell_type": "code",
   "execution_count": null,
   "metadata": {},
   "outputs": [],
   "source": [
    "verjetnosti_korenov_po_zanrih.Crime.sort_values(ascending=False).head(20)"
   ]
  },
  {
   "cell_type": "code",
   "execution_count": null,
   "metadata": {},
   "outputs": [],
   "source": [
    "verjetnosti_korenov_po_zanrih.Romance.sort_values(ascending=False).head(20)"
   ]
  },
  {
   "cell_type": "code",
   "execution_count": null,
   "metadata": {},
   "outputs": [],
   "source": [
    "verjetnosti_korenov_po_zanrih['Sci-Fi'].sort_values(ascending=False).head(20)"
   ]
  },
  {
   "cell_type": "markdown",
   "metadata": {},
   "source": [
    "Žanre sedaj določimo tako, da za vsak žanr pomnožimo verjetnost žanra in pogojne verjetnosti vseh korenov, ki nastopajo v opisu filma."
   ]
  },
  {
   "cell_type": "code",
   "execution_count": null,
   "metadata": {},
   "outputs": [],
   "source": [
    "def doloci_zanre(opis):\n",
    "    faktorji_zanrov = verjetnosti_zanrov * verjetnosti_korenov_po_zanrih[\n",
    "        verjetnosti_korenov_po_zanrih.index.isin(\n",
    "            koreni_besed(opis)\n",
    "        )\n",
    "    ].prod()\n",
    "    faktorji_zanrov /= max(faktorji_zanrov)\n",
    "    return faktorji_zanrov.sort_values(ascending=False).head(5)"
   ]
  },
  {
   "cell_type": "code",
   "execution_count": null,
   "metadata": {},
   "outputs": [],
   "source": [
    "doloci_zanre('Alien space ship appears above Slovenia.')"
   ]
  },
  {
   "cell_type": "code",
   "execution_count": null,
   "metadata": {},
   "outputs": [],
   "source": [
    "doloci_zanre('A story about a young mathematician, who discovers her artistic side')"
   ]
  }
 ],
 "metadata": {
  "kernelspec": {
   "display_name": "Python 3",
   "language": "python",
   "name": "python3"
  },
  "language_info": {
   "codemirror_mode": {
    "name": "ipython",
    "version": 3
   },
   "file_extension": ".py",
   "mimetype": "text/x-python",
   "name": "python",
   "nbconvert_exporter": "python",
   "pygments_lexer": "ipython3",
   "version": "3.7.1rc1"
  }
 },
 "nbformat": 4,
 "nbformat_minor": 1
}
